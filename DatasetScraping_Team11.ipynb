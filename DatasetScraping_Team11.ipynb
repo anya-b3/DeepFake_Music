{
  "cells": [
    {
      "cell_type": "code",
      "execution_count": null,
      "metadata": {
        "colab": {
          "base_uri": "https://localhost:8080/"
        },
        "id": "zXIhlPhD2xFP",
        "outputId": "45c2d8f4-efcd-43e6-e50f-d90182cdc7c8"
      },
      "outputs": [],
      "source": [
        "# tinytag\n",
        "# pytube\n",
        "# moviepy\n",
        "# youtube_search\n",
        "# tqdm\n",
        "!pip install tinytag\n",
        "!pip install pytube\n",
        "!pip install moviepy\n",
        "!pip install youtube_search\n",
        "!pip install tqdm"
      ]
    },
    {
      "cell_type": "code",
      "execution_count": null,
      "metadata": {
        "colab": {
          "base_uri": "https://localhost:8080/",
          "height": 1000
        },
        "id": "MwUa6TE23Et1",
        "outputId": "f1dcecce-ee90-4c86-d067-4d1d726f9c1c"
      },
      "outputs": [],
      "source": [
        "\n",
        "import os\n",
        "import sys\n",
        "import time\n",
        "from tinytag import TinyTag\n",
        "from pytube import YouTube\n",
        "from moviepy.editor import *\n",
        "from youtube_search import YoutubeSearch\n",
        "from tqdm import tqdm\n",
        "\n",
        "# Callback function for progress updates during video download\n",
        "def progress_callback(stream, chunk, bytes_remaining):\n",
        "    global progress_bar\n",
        "    total_size = stream.filesize\n",
        "    bytes_downloaded = total_size - bytes_remaining\n",
        "    progress_bar.update(len(chunk))\n",
        "\n",
        "# Download video from YouTube given a URL and an output path\n",
        "def download_video(url, output_path):\n",
        "    try:\n",
        "        global progress_bar\n",
        "        print(f\"Downloading: {url}\")\n",
        "        yt = YouTube(url, on_progress_callback=progress_callback)\n",
        "        video = yt.streams.filter(file_extension='mp4').get_highest_resolution()\n",
        "\n",
        "        progress_bar = tqdm(total=video.filesize, unit='B', unit_scale=True, ncols=100)\n",
        "        video.download(output_path=output_path)\n",
        "        progress_bar.close()\n",
        "\n",
        "        return os.path.join(output_path, video.default_filename)\n",
        "    except Exception as e:\n",
        "        print(f\"Error downloading video: {e}\")\n",
        "        return None\n",
        "\n",
        "# Convert video file to .wav format with 48kHz sample rate\n",
        "def convert_to_wav(video_path, output_path):\n",
        "    try:\n",
        "        video = VideoFileClip(video_path)\n",
        "        audio = video.audio\n",
        "        wav_filename = os.path.splitext(os.path.basename(video_path))[0] + \".wav\"\n",
        "\n",
        "        # Ensure the output directory exists\n",
        "        os.makedirs(output_path, exist_ok=True)\n",
        "        print(f\"Output path: {output_path}\")  # Add this line for debugging\n",
        "\n",
        "        audio.write_audiofile(os.path.join(output_path, wav_filename), fps=48000)\n",
        "        return os.path.join(output_path, wav_filename)\n",
        "    except Exception as e:\n",
        "        print(f\"Error converting to wav: {e}\")\n",
        "        return None\n",
        "\n",
        "# Search for YouTube videos given a genre and max number of results\n",
        "def search_videos(genre, max_results=5):\n",
        "    search_results = YoutubeSearch(f\"{genre} music\", max_results=max_results).to_dict()\n",
        "    return [f\"https://www.youtube.com{result['url_suffix']}\" for result in search_results]\n",
        "\n",
        "# Main function to download music by genre and save it in .wav format\n",
        "def main():\n",
        "    # Get user input\n",
        "    genres = input(\"Enter a list of genres separated by commas: \").split(',')\n",
        "    output_path = input(\"Enter the output directory for the .wav files: \")\n",
        "    hours_per_genre = float(input(\"Enter the number of hours you want to download for each genre: \"))\n",
        "\n",
        "    max_duration_per_genre = hours_per_genre * 60 * 60  # Convert hours to seconds\n",
        "\n",
        "    # Iterate through each genre\n",
        "    for genre in genres:\n",
        "        genre = genre.strip()\n",
        "        genre_output_path = os.path.join(output_path, genre)\n",
        "        os.makedirs(genre_output_path, exist_ok=True)\n",
        "\n",
        "        genre_duration = 0\n",
        "\n",
        "        print(f\"Searching for {genre} music on YouTube...\")\n",
        "\n",
        "        youtube_links_file = os.path.join(genre_output_path, 'youtube_links.txt')\n",
        "\n",
        "        # Download videos until the desired duration is reached\n",
        "        while genre_duration < max_duration_per_genre:\n",
        "            video_urls = search_videos(genre, max_results=20)\n",
        "\n",
        "            for url in video_urls:\n",
        "                video_path = download_video(url, genre_output_path)\n",
        "                if video_path:\n",
        "                    wav_path = convert_to_wav(video_path, genre_output_path)\n",
        "                    if wav_path:\n",
        "                        duration = TinyTag.get(wav_path).duration\n",
        "                        genre_duration += duration\n",
        "\n",
        "                        # Save the YouTube link to the .txt file\n",
        "                        with open(youtube_links_file, 'a') as f:\n",
        "                            f.write(f\"{url}\\n\")\n",
        "\n",
        "                        # Delete the video file\n",
        "                        os.remove(video_path)\n",
        "\n",
        "                    # Check if the desired duration has been reached\n",
        "                    if genre_duration >= max_duration_per_genre:\n",
        "                        print(f\"Reached {hours_per_genre} hours of {genre} music. Stopping download for this genre.\")\n",
        "                        break\n",
        "if __name__ == \"__main__\":\n",
        "    while True:\n",
        "        main()\n",
        "        print(\"Waiting for the next request...\")\n",
        "        time.sleep(5)"
      ]
    },
    {
      "cell_type": "code",
      "execution_count": null,
      "metadata": {
        "colab": {
          "base_uri": "https://localhost:8080/"
        },
        "id": "BH2T7UqiWtGU",
        "outputId": "21003f80-d4a4-493f-d548-a2111869f252"
      },
      "outputs": [],
      "source": [
        "import os\n",
        "from moviepy.editor import AudioFileClip\n",
        "global ctr\n",
        "ctr = 1\n",
        "# Function to split audio file into 10-second clips\n",
        "def split_audio_into_clips(audio_path, output_path):\n",
        "    global ctr\n",
        "    try:\n",
        "        audio = AudioFileClip(audio_path)\n",
        "\n",
        "        # Ensure the output directory exists\n",
        "        os.makedirs(output_path, exist_ok=True)\n",
        "\n",
        "        # Calculate number of clips\n",
        "        total_duration = audio.duration\n",
        "        num_clips = int(total_duration / 10) + 1\n",
        "\n",
        "        for i in range(num_clips):\n",
        "            start_time = i * 10\n",
        "            end_time = min((i + 1) * 10, total_duration)\n",
        "            clip = audio.subclip(start_time, end_time)\n",
        "            clip.write_audiofile(os.path.join(output_path, f\"clip_{ctr}.wav\"))\n",
        "            ctr+=1\n",
        "\n",
        "        return True\n",
        "    except Exception as e:\n",
        "        print(f\"Error splitting audio into clips: {e}\")\n",
        "        return False\n",
        "\n",
        "# Function to process all .wav files in a directory and its subdirectories\n",
        "def process_wav_files(directory, output_directory):\n",
        "    for root, _, files in os.walk(directory):\n",
        "        for file in files:\n",
        "            if file.endswith(\".wav\"):\n",
        "                audio_path = os.path.join(root, file)\n",
        "                output_path = os.path.join(output_directory, os.path.relpath(root, directory))\n",
        "                split_audio_into_clips(audio_path, output_path)\n",
        "\n",
        "# Example usage:\n",
        "input_directory = \"/content/pop/pop\"\n",
        "output_directory = \"/content/final_pop\"\n",
        "\n",
        "process_wav_files(input_directory, output_directory)\n"
      ]
    },
    {
      "cell_type": "code",
      "execution_count": null,
      "metadata": {
        "colab": {
          "base_uri": "https://localhost:8080/"
        },
        "id": "bZ6Eam69YXSs",
        "outputId": "db860cf9-d2c7-445d-e1f0-71c665c30972"
      },
      "outputs": [],
      "source": [
        "from moviepy.editor import AudioFileClip\n",
        "import os\n",
        "\n",
        "# Initialize global counter\n",
        "ct2 = 1\n",
        "\n",
        "def split_audio_into_clips(audio_path, output_path):\n",
        "    \"\"\"\n",
        "    Function to split audio file into 10-second clips.\n",
        "    \"\"\"\n",
        "    global ct2\n",
        "    try:\n",
        "        # Load the audio file\n",
        "        audio = AudioFileClip(audio_path)\n",
        "\n",
        "        # Ensure the output directory exists\n",
        "        os.makedirs(output_path, exist_ok=True)\n",
        "\n",
        "        # Calculate number of clips\n",
        "        total_duration = audio.duration\n",
        "        num_clips = int(total_duration / 10) + 1\n",
        "\n",
        "        # Split the audio into clips\n",
        "        for i in range(num_clips):\n",
        "            start_time = i * 10\n",
        "            end_time = min((i + 1) * 10, total_duration)\n",
        "            clip = audio.subclip(start_time, end_time)\n",
        "            clip.write_audiofile(os.path.join(output_path, f\"clip_{ct2}.wav\"))\n",
        "            ct2 += 1\n",
        "\n",
        "        return True\n",
        "    except Exception as e:\n",
        "        print(f\"Error splitting audio into clips: {e}\")\n",
        "        return False\n",
        "\n",
        "def process_wav_files(input_directory, output_directory):\n",
        "    \"\"\"\n",
        "    Function to process all .wav files in a directory and its subdirectories.\n",
        "    \"\"\"\n",
        "    for root, dirs, files in os.walk(input_directory):\n",
        "        for dir in dirs:\n",
        "            dir_path = os.path.join(root, dir)\n",
        "            output_subdirectory = os.path.join(output_directory, os.path.relpath(dir_path, input_directory))\n",
        "            for file in os.listdir(dir_path):\n",
        "                if file.endswith(\".wav\"):\n",
        "                    audio_path = os.path.join(dir_path, file)\n",
        "                    split_audio_into_clips(audio_path, output_subdirectory)\n",
        "\n",
        "# Example usage:\n",
        "input_directory = \"/content/ai pop\"\n",
        "output_directory = \"/content/final_ai pop\"\n",
        "\n",
        "process_wav_files(input_directory, output_directory)\n"
      ]
    },
    {
      "cell_type": "code",
      "execution_count": null,
      "metadata": {
        "colab": {
          "base_uri": "https://localhost:8080/"
        },
        "id": "-DM5H8Dheti0",
        "outputId": "a7924d53-f86e-4644-e85b-57a5591e6270"
      },
      "outputs": [],
      "source": [
        "!pip install PyDrive"
      ]
    },
    {
      "cell_type": "code",
      "execution_count": null,
      "metadata": {
        "colab": {
          "base_uri": "https://localhost:8080/"
        },
        "id": "hdhTrYRHeyY1",
        "outputId": "739bebe0-c907-4f44-fbc7-42c31a6fa7e4"
      },
      "outputs": [],
      "source": [
        "import os\n",
        "import shutil\n",
        "\n",
        "def copy_folder(src, dst):\n",
        "    try:\n",
        "        shutil.copytree(src, dst)\n",
        "        print(f\"Folder copied from {src} to {dst}\")\n",
        "        return True\n",
        "    except Exception as e:\n",
        "        print(f\"Error copying folder: {e}\")\n",
        "        return False\n",
        "\n",
        "# Example usage:\n",
        "input_directory = \"/content/pop\"  # Path to the folder you want to copy\n",
        "output_directory = \"/home/pes2ug21cs293/sem6\"  # Destination folder path\n",
        "\n",
        "copy_folder(input_directory, output_directory)\n"
      ]
    },
    {
      "cell_type": "code",
      "execution_count": null,
      "metadata": {
        "colab": {
          "base_uri": "https://localhost:8080/"
        },
        "id": "JTisx2IB1Lb8",
        "outputId": "6bba701b-8a3d-4d22-9b89-ed5b033e4aad"
      },
      "outputs": [],
      "source": [
        "from google.colab import drive\n",
        "drive.mount('/content/drive')"
      ]
    },
    {
      "cell_type": "code",
      "execution_count": null,
      "metadata": {
        "colab": {
          "base_uri": "https://localhost:8080/"
        },
        "id": "foMXxTTkf5J1",
        "outputId": "ab114ad9-1eab-4866-e04f-0508cf310cb1"
      },
      "outputs": [],
      "source": [
        "!zip -r /content/file.zip /content"
      ]
    },
    {
      "cell_type": "code",
      "execution_count": null,
      "metadata": {
        "colab": {
          "base_uri": "https://localhost:8080/",
          "height": 280
        },
        "id": "QjV-DZ6jhOH3",
        "outputId": "7559ca2a-9fda-4f00-d152-e2079e35f8b3"
      },
      "outputs": [],
      "source": [
        "from google.colab import files\n",
        "files.download(\"/content/file.zip\")"
      ]
    },
    {
      "cell_type": "code",
      "execution_count": null,
      "metadata": {
        "colab": {
          "base_uri": "https://localhost:8080/"
        },
        "id": "oO4o6p5f8RYC",
        "outputId": "0a9f5d5f-b0bf-4534-b22c-212771401f44"
      },
      "outputs": [],
      "source": [
        "# Create ZIP archives for the folders\n",
        "!zip -r /content/final_ai_pop.zip /content/final_ai_pop\n",
        "!zip -r /content/final_pop.zip /content/final_pop\n"
      ]
    },
    {
      "cell_type": "code",
      "execution_count": null,
      "metadata": {
        "colab": {
          "base_uri": "https://localhost:8080/",
          "height": 52
        },
        "id": "a7-Gkemk-50W",
        "outputId": "7df0f190-0b59-4e6e-8c1d-067ee6c57d86"
      },
      "outputs": [],
      "source": [
        "from google.colab import files\n",
        "\n",
        "# Download the ZIP archives\n",
        "files.download(\"/content/final_ai_pop.zip\")\n",
        "files.download(\"/content/final_pop.zip\")\n"
      ]
    },
    {
      "cell_type": "code",
      "execution_count": null,
      "metadata": {
        "colab": {
          "background_save": true
        },
        "id": "0ss_hOXG_wn9",
        "outputId": "d7b5c745-bf3e-47ab-d4ca-d40eb9e2f2bb"
      },
      "outputs": [],
      "source": [
        "from google.colab import drive\n",
        "drive.mount('/content/drive')\n"
      ]
    },
    {
      "cell_type": "code",
      "execution_count": null,
      "metadata": {
        "id": "vigEwvmfFWP9"
      },
      "outputs": [],
      "source": []
    }
  ],
  "metadata": {
    "colab": {
      "provenance": []
    },
    "kernelspec": {
      "display_name": "Python 3",
      "name": "python3"
    },
    "language_info": {
      "name": "python"
    }
  },
  "nbformat": 4,
  "nbformat_minor": 0
}
